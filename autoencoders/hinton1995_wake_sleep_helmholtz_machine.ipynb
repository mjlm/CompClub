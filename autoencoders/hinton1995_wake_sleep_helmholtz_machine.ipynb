{
 "cells": [
  {
   "cell_type": "markdown",
   "metadata": {},
   "source": [
    "# Intro\n",
    "\n",
    "This notebook implements the Helmholtz machine introduced in:\n",
    "\n",
    "Hinton GE, Dayan P, Frey BJ & Neal RM (1995). The “wake-sleep” algorithm for unsupervised neural networks. Science 268, 1158–1161. ([PDF](http://www.gatsby.ucl.ac.uk/~dayan/papers/hdfn95.pdf))\n"
   ]
  },
  {
   "cell_type": "markdown",
   "metadata": {},
   "source": [
    "# Setting up\n",
    "To organize the code, we'll first create a class representing one layer of our Helmholtz machine.\n",
    "\n",
    "In this class, each layer is described by its neighbors (the layer above and the layer below) and the weights originating from the layer (i.e. there will be two nUnitsInLayer-by-something weight matrices per layer, one for the recognition weights and one for the generative weights).\n",
    "\n",
    "The nomenclature follows Figure 1 in Hinton 1995: The input layer is at the lowest positon. Recognition weights point upwards, and generative weights point downwards."
   ]
  },
  {
   "cell_type": "code",
   "execution_count": 3,
   "metadata": {
    "collapsed": true
   },
   "outputs": [],
   "source": [
    "import numpy as np\n",
    "%qtconsole\n",
    "\n",
    "class Layer(object):\n",
    "    def __init__(self, n_units, layer_below=None):\n",
    "        self.n_units = n_units\n",
    "        self.state = np.zeros(n_units)\n",
    "        self.b_rec = np.zeros(self.n_units) # Recognition bias\n",
    "        self.b_gen = np.zeros(self.n_units) # Generative bias\n",
    "        self.above = None # Layer above; will be filled when connecting layer from above.\n",
    "        \n",
    "        if layer_below is not None:            \n",
    "            # Create link from self to layer below and initialize\n",
    "            # the down-going (generative) weights:\n",
    "            self.below = layer_below\n",
    "            self.init_w_gen()\n",
    "                        \n",
    "            # Create link from layer below to self and initialize\n",
    "            # the up-going (recognition) weights:\n",
    "            layer_below.above = self\n",
    "            layer_below.init_w_rec()\n",
    "        else:\n",
    "            self.below = None\n",
    "            \n",
    "    def init_w_rec(self):\n",
    "        \"\"\"Initialize reconstruction weights originating from this layer.\"\"\"\n",
    "        self.w_rec = np.zeros((self.n_units, self.above.n_units))\n",
    "        \n",
    "    def init_w_gen(self):\n",
    "        \"\"\"Initialize generative weights originating from this layer.\"\"\"\n",
    "        self.w_gen = np.zeros((self.n_units, self.below.n_units))\n",
    "        \n",
    "    def get_C(self):\n",
    "        \"\"\"Get the description length of all units in the layer.\"\"\"\n",
    "        # Equations 2 and 3 in Hinton 1995.\n",
    "        \n",
    "        if self.above is None:\n",
    "            p = sigmoid(-self.b_gen)\n",
    "        else:\n",
    "            p = sigmoid(-self.b_gen - self.above.state.dot(self.above.w_gen).T)\n",
    "        return np.sum(-(self.state * np.log(p)) - (1-self.state) * np.log(1-p))"
   ]
  },
  {
   "cell_type": "markdown",
   "metadata": {},
   "source": [
    "# Wake phase\n",
    "\n",
    "In the wake phase, the recognition weights are fixed and the generative weights are trained.\n",
    "\n",
    "Equation 4 in Hinton 1995 provides the update rule:\n",
    "\n",
    "$$ \\Delta w_{kj} = \\epsilon s_k^\\alpha (s_j^\\alpha - p_j^\\alpha) $$\n",
    "\n",
    "This is the derivative of the objective given in equation (3). The update specifies that for each active presynaptic neuron, the weight of the connection to each postsynaptic neuron should change in proportion to the difference between the current state of the postsynaptic neuron and the probability that the neuron should be active, as specified by the weights of the network."
   ]
  },
  {
   "cell_type": "code",
   "execution_count": 4,
   "metadata": {
    "collapsed": false
   },
   "outputs": [],
   "source": [
    "def sigmoid(x):\n",
    "    return 1.0 / (1.0 + np.exp(x))\n",
    "\n",
    "def drive_layer_wake(layer_below, layer_above):\n",
    "    \"\"\"Determine neuronal activations according to the recognition weights.\"\"\"\n",
    "    # In the wake phase, we use the recognition weights to choose activations,\n",
    "    # from the input layer at the bottom upwards.\n",
    "    \n",
    "    # Equation 1 in Hinton 1995:\n",
    "    p = sigmoid(-layer_above.b_rec - layer_below.state.dot(layer_below.w_rec).T)\n",
    "    \n",
    "    # Sample binary states according from distribution p:\n",
    "    layer_above.state = p > np.random.random_sample(p.shape)\n",
    "\n",
    "def train_layer_wake(layer_below, layer_above):\n",
    "    \"\"\"Change generative weights based on recognition activations.\"\"\"\n",
    "    # Based on equation 4 in Hinton 1995.\n",
    "    \n",
    "    if layer_above is None:\n",
    "        # No layer_above means we're training the top layer:\n",
    "        # Just adjust the biases to match the current state.\n",
    "        p = sigmoid(-layer_below.b_gen)\n",
    "        layer_below.b_gen = layer_below.b_gen + (epsilon *\n",
    "                            (layer_below.state - p))\n",
    "    else:\n",
    "        p = sigmoid(-layer_below.b_gen - layer_above.state.dot(layer_above.w_gen).T)\n",
    "        layer_above.w_gen = layer_above.w_gen + (epsilon * \n",
    "                            np.outer(layer_above.state, (layer_below.state - p)))\n",
    "        # Update bias. This is not described in the paper, but\n",
    "        # http://www.gatsby.ucl.ac.uk/~dayan/papers/d2000a.pdf\n",
    "        # suggests that it should be done like this:\n",
    "        layer_below.b_gen = layer_below.b_gen + (epsilon *\n",
    "                            (layer_below.state - p))"
   ]
  },
  {
   "cell_type": "markdown",
   "metadata": {},
   "source": [
    "# Sleep phase\n",
    "In the sleep phase, we drive the network using the generative weights to dream up \"fantasies\" of what the input to the network might look like according to the generative model. We then change the recognition weights to match the generative model as closely as possible: Given one of the fantasies as input, the recognition weights should be such that, when the network is driven by this input, it goes to a state that resembles the state used to dream up that fantasy."
   ]
  },
  {
   "cell_type": "code",
   "execution_count": 5,
   "metadata": {
    "collapsed": false
   },
   "outputs": [],
   "source": [
    "def drive_layer_sleep(layer_below, layer_above):\n",
    "    \"\"\"Determine neuronal activations according to the generative weights.\"\"\"\n",
    "    \n",
    "    # Equation 1 in Hinton 1995:\n",
    "    p = sigmoid(-layer_below.b_gen - layer_above.state.dot(layer_above.w_gen).T)\n",
    "    \n",
    "    # Sample binary states according from distribution p:\n",
    "    layer_below.state = p > np.random.random_sample(p.shape)\n",
    "\n",
    "def train_layer_sleep(layer_below, layer_above):\n",
    "    \"\"\"Change recognition weights based on generative activations.\"\"\"\n",
    "    # Based on equation 7 in Hinton 1995.\n",
    "    \n",
    "    if layer_below is None:\n",
    "        # No layer_below means we're training the bottom layer:\n",
    "        # Just adjust the biases to match the current input.\n",
    "        q = sigmoid(-layer_above.b_rec)        \n",
    "        layer_above.b_rec = layer_above.b_rec + (epsilon *\n",
    "                            (layer_above.state - q))\n",
    "    else:\n",
    "        q = sigmoid(-layer_above.b_rec - layer_below.state.dot(layer_below.w_rec).T)\n",
    "        layer_below.w_rec = layer_below.w_rec + (epsilon * \n",
    "                            np.outer(layer_below.state, (layer_above.state - q)))\n",
    "        layer_above.b_rec = layer_above.b_rec + (epsilon *\n",
    "                           (layer_above.state - q))"
   ]
  },
  {
   "cell_type": "markdown",
   "metadata": {},
   "source": [
    "# Putting the layers together\n",
    "To orchestrate the training, we create a Network class. The Network object will contain a number of layers an coordinate the driving and training sweeps through the network:"
   ]
  },
  {
   "cell_type": "code",
   "execution_count": 6,
   "metadata": {
    "collapsed": false
   },
   "outputs": [],
   "source": [
    "class Network(object):\n",
    "    def __init__(self, nInput):\n",
    "        self.layers = [Layer(nInput)]\n",
    "        self.nLayers = 1\n",
    "        \n",
    "    def addLayer(self, nUnits):\n",
    "        self.layers.append(Layer(nUnits, self.layers[-1]))\n",
    "        self.nLayers += 1\n",
    "        \n",
    "    def drive_wake(self, input_state):\n",
    "        self.layers[0].state = input_state\n",
    "        for i in range(self.nLayers-1):\n",
    "            drive_layer_wake(self.layers[i], self.layers[i+1])\n",
    "        \n",
    "    def train_wake(self):\n",
    "        train_layer_wake(self.layers[-1], None)\n",
    "        for i in range(self.nLayers-2, -1, -1):\n",
    "            train_layer_wake(self.layers[i], self.layers[i+1])\n",
    "\n",
    "    def drive_sleep(self):\n",
    "        p = sigmoid(-self.layers[-1].b_gen)\n",
    "        self.layers[-1].state = np.random.random_sample(self.layers[-1].state.shape) < p\n",
    "        for i in range(self.nLayers-2, -1, -1):\n",
    "            drive_layer_sleep(self.layers[i], self.layers[i+1])\n",
    "\n",
    "    def train_sleep(self):\n",
    "        train_layer_sleep(None, self.layers[0])\n",
    "        for i in range(self.nLayers-1):\n",
    "            train_layer_sleep(self.layers[i], self.layers[i+1])\n",
    "            \n",
    "    def get_C(self):\n",
    "        \"\"\"Get description length of whole network.\"\"\"\n",
    "        return np.sum([layer.get_C() for layer in self.layers])"
   ]
  },
  {
   "cell_type": "markdown",
   "metadata": {},
   "source": [
    "# Data preprocessing\n",
    "Hinton 1995 uses a handwritten digit dataset \"from the CEDAR CDROM 1\" (endnote 7). This dataset is still available, if you're willing to part with $950 and wait for a CDROM to be mailed to you. I am not, so I'm using the freely available MNIST dataset instead. Hinton's images measure 8 by 8 pixels. Downsampling the 28 by 28 MNIST images to 8 by 8 makes them almost unrecognizable. 14 by 14 is a reasonable compromise between image quality and training duration."
   ]
  },
  {
   "cell_type": "code",
   "execution_count": 7,
   "metadata": {
    "collapsed": false
   },
   "outputs": [
    {
     "name": "stdout",
     "output_type": "stream",
     "text": [
      "..............................Done.\n"
     ]
    }
   ],
   "source": [
    "import load_mnist as load_mnist\n",
    "from scipy.misc import imresize\n",
    "import sys\n",
    "\n",
    "# Load data (only training since we're not actually testing anything):\n",
    "im_train_raw, label_train = load_mnist.load_mnist(dataset=\"training\", digits=np.arange(10), path=\"C:\\\\Users\\\\Matthias\\\\GitHub\\\\personal\\\\neuralNets\\\\mnist\")\n",
    "\n",
    "# Only use the easier first half of the data:\n",
    "im_train_raw = im_train_raw[0:30000, :, :]\n",
    "label_train = label_train[0:30000]\n",
    "\n",
    "# Downsample dataset:\n",
    "h = 14\n",
    "w = 14\n",
    "im_train = np.zeros((im_train_raw.shape[0], h, w))\n",
    "for i in range(im_train.shape[0]):\n",
    "    img = im_train_raw[i,:,:,]\n",
    "    \n",
    "    # Crop and center digit so there is no whitespace around it:\n",
    "    B = np.argwhere(img)\n",
    "    (ystart, xstart), (ystop, xstop) = B.min(0), B.max(0) + 1\n",
    "    cropped = img[ystart:ystop, xstart:xstop]\n",
    "    square = np.zeros((np.max((xstop-xstart, ystop-ystart))) + (0, 0))\n",
    "    x_ind = np.arange(cropped.shape[1])+(square.shape[1]-cropped.shape[1])/2\n",
    "    y_ind = np.arange(cropped.shape[0])+(square.shape[0]-cropped.shape[0])/2\n",
    "    square[y_ind.min():y_ind.max()+1, x_ind.min():x_ind.max()+1] = cropped\n",
    "    im_train[i,:,:,] = imresize(square, (h, w))\n",
    "    if i%1000 == 0:\n",
    "        sys.stdout.write('.')\n",
    "\n",
    "print('Done.')\n",
    "\n",
    "# Binarize dataset:\n",
    "im_train = im_train > 10 # 10 looks best"
   ]
  },
  {
   "cell_type": "markdown",
   "metadata": {},
   "source": [
    "Let's plot a few examples to make sure the preprocessing worked:"
   ]
  },
  {
   "cell_type": "code",
   "execution_count": 8,
   "metadata": {
    "collapsed": false
   },
   "outputs": [
    {
     "data": {
      "image/png": "[encoded data removed]",
      "text/plain": [
       "<matplotlib.figure.Figure at 0xa6bfb38>"
      ]
     },
     "metadata": {},
     "output_type": "display_data"
    }
   ],
   "source": [
    "import matplotlib.pyplot as plt\n",
    "%matplotlib inline\n",
    "\n",
    "for i in range(10):\n",
    "    ind_digit_here = (label_train==i).nonzero()\n",
    "    ind = np.random.randint(ind_digit_here[0].size)\n",
    "    img_row = im_train[ind_digit_here[0][ind],:,:]\n",
    "    for j in range(1, 12):\n",
    "        ind = np.random.randint(ind_digit_here[0].size)\n",
    "        img = im_train[ind_digit_here[0][ind],:,:]\n",
    "        img_row = np.concatenate((img_row, np.zeros((img.shape[0], 2)), img), 1)\n",
    "    if i is 0:\n",
    "        img_grid = img_row\n",
    "    else:\n",
    "        img_grid = np.concatenate((img_grid, np.zeros((2, img_row.shape[1])), img_row), 0)\n",
    "\n",
    "plt.imshow(-img_grid, interpolation=\"nearest\", cmap=\"gray\");\n",
    "plt.gca().axis('off');"
   ]
  },
  {
   "cell_type": "markdown",
   "metadata": {},
   "source": [
    "Like the paper, we can use the \"naive\" description length (see endnote 7) of the data as a benchmark for our network:"
   ]
  },
  {
   "cell_type": "code",
   "execution_count": 9,
   "metadata": {
    "collapsed": false
   },
   "outputs": [
    {
     "name": "stdout",
     "output_type": "stream",
     "text": [
      "The mean description length for the current dataset is 91.0.\n"
     ]
    }
   ],
   "source": [
    "mean_desc_length_digit = np.zeros(10)\n",
    "for i in range(10):\n",
    "    i_digit_here = (label_train==i).nonzero()[0]\n",
    "    p = np.maximum(np.mean((im_train[i_digit_here, :, :]), 0).ravel(), 1e-10)\n",
    "    for i_example in range(i_digit_here.size):\n",
    "        state = im_train[i_digit_here[i_example], :, :].ravel()\n",
    "        mean_desc_length_digit[i] += np.sum(-(state * np.log(p)) - (1-state) * np.log(1-p))\n",
    "    mean_desc_length_digit[i] /= i_digit_here.size\n",
    "mean_desc_length = np.mean(mean_desc_length_digit)\n",
    "print('The mean description length for the current dataset is {:1.1f}.').format(mean_desc_length)"
   ]
  },
  {
   "cell_type": "markdown",
   "metadata": {},
   "source": [
    "## Network architecture\n",
    "\n",
    "I decided to skip the individual networks for the 10 digits and just build one large network which encodes all 10 digits. The description length provides a measure for the performance of the network.\n",
    "\n",
    "Hinton's input images measured 8 by 8 pixels and he used a 64-32-32-16 architecture for the single network that processes all digits jointly.\n",
    "\n",
    "Playing around with the network architecture didn't reveal any simple relationships between performance and architecture. Larger networks just took longer to train. So I'll just use Hinton's 32-32-16 hidden layer sizes. The input layer will have 196 units to match the image size (14*14).\n",
    "\n",
    "The weights are automatically initialized to zero by the Layer class defined above."
   ]
  },
  {
   "cell_type": "code",
   "execution_count": 10,
   "metadata": {
    "collapsed": false
   },
   "outputs": [],
   "source": [
    "# Input layer:\n",
    "nPix = h * w\n",
    "network = Network(nPix)\n",
    "\n",
    "# Add hidden layers:\n",
    "network.addLayer(32)\n",
    "network.addLayer(32)\n",
    "network.addLayer(16)"
   ]
  },
  {
   "cell_type": "markdown",
   "metadata": {},
   "source": [
    "Now we can start training the network."
   ]
  },
  {
   "cell_type": "code",
   "execution_count": null,
   "metadata": {
    "collapsed": true
   },
   "outputs": [],
   "source": [
    "# Plot description length to monitor training progress:\n",
    "%matplotlib auto\n",
    "plt.ion()\n",
    "fig = plt.figure()\n",
    "ax = plt.axes()\n",
    "h_line, = plt.plot([], [], 'r-')\n",
    "plt.xlabel('Iteration')\n",
    "plt.title('Description length')\n",
    "xdata=[0]\n",
    "ydata=[0]\n",
    "\n",
    "# Learning rate:\n",
    "epsilon = 0.01 # Hinton 1995 uses 0.01 (see endnote 7).\n",
    "\n",
    "nEpoch = 1\n",
    "nTrain = label_train.size\n",
    "iIter = 0;\n",
    "for iEpoch in range(nEpoch):\n",
    "    print(iEpoch+1)\n",
    "    random_order = np.random.permutation(nTrain)\n",
    "    for iExample in random_order:\n",
    "        iIter += 1\n",
    "        \n",
    "        # Wake phase (bottom-up pass):\n",
    "        # Drive the network using the example:\n",
    "        network.drive_wake(im_train[iExample, :, :].ravel())\n",
    "        \n",
    "        # Learn the generative weights based on input:\n",
    "        network.train_wake()\n",
    "        \n",
    "        # Sleep phase (top-down pass):\n",
    "        # Drive the network using a dreamed-up (random) fantasy:\n",
    "        network.drive_sleep()\n",
    "        \n",
    "        # Learn the recognition weights based on fantasy:\n",
    "        network.train_sleep()\n",
    "        \n",
    "        # Show training progress by plotting current description length:\n",
    "        if iIter%100 is 0:\n",
    "            xdata.append(iIter)     # Append new data to list\n",
    "            ydata.append(network.get_C())\n",
    "            h_line.set_data(xdata, ydata) # update data\n",
    "            ax.relim()        # Recalculate limits\n",
    "            ax.autoscale_view(True,True,True) #Autoscale\n",
    "            fig.canvas.draw()\n",
    "            fig.canvas.flush_events()\n",
    "            "
   ]
  },
  {
   "cell_type": "code",
   "execution_count": 957,
   "metadata": {
    "collapsed": true
   },
   "outputs": [],
   "source": [
    "# Save layers as list of dicts:\n",
    "netDictList = []\n",
    "for i in range(len(network)):\n",
    "    netDictList.append(network[i].__dict__)\n",
    "    \n",
    "f = open('sleepWake_state_14by14_netIsHintonSized_after10Miter_netDictList.pckl', 'w')\n",
    "pickle.dump(netDictList, f)\n",
    "f.close()"
   ]
  },
  {
   "cell_type": "code",
   "execution_count": 39,
   "metadata": {
    "collapsed": false,
    "scrolled": true
   },
   "outputs": [
    {
     "data": {
      "image/png": "[encoded data removed]",
      "text/plain": [
       "<matplotlib.figure.Figure at 0x14a7a400>"
      ]
     },
     "metadata": {},
     "output_type": "display_data"
    }
   ],
   "source": [
    "# Show some fantasies:\n",
    "%matplotlib inline\n",
    "description_length = 0\n",
    "for i in range(10):\n",
    "    network.drive_sleep()\n",
    "    description_length += network.get_C()\n",
    "    img_row = np.reshape(network.layers[0].state, im_train[0].shape)\n",
    "    for j in range(1, 12):\n",
    "        network.drive_sleep()\n",
    "        description_length += network.get_C()\n",
    "        img = np.reshape(network.layers[0].state, im_train[0].shape)\n",
    "        img_row = np.concatenate((img_row, np.zeros((img.shape[0], 2)), img), 1)\n",
    "    if i is 0:\n",
    "        img_grid = img_row\n",
    "    else:\n",
    "        img_grid = np.concatenate((img_grid, np.zeros((2, img_row.shape[1])), img_row), 0)\n",
    "\n",
    "description_length /= (i+1)*(j+1)\n",
    "plt.imshow(-img_grid, interpolation=\"nearest\", cmap=\"gray\");\n",
    "plt.gca().axis('off');\n",
    "plt.title(('Mean description length: {:1.1f}').format(description_length));"
   ]
  },
  {
   "cell_type": "markdown",
   "metadata": {},
   "source": [
    "After 3 million iterations (rougly the same number of iterations as in the paper), the mean description length is about 2/3 of the \"naive\" description length of the data. The fantasies look reasonably similar to the data, but are a bit noisy.\n",
    "\n",
    "10 more million iterations (several hours of training) improve the mean description length by a few percent and remove some of the noise, but don't make a qualitative difference."
   ]
  },
  {
   "cell_type": "markdown",
   "metadata": {},
   "source": [
    "## Convenience functions:"
   ]
  },
  {
   "cell_type": "code",
   "execution_count": null,
   "metadata": {
    "collapsed": true
   },
   "outputs": [],
   "source": [
    "# Back-up network as list of dicts:\n",
    "import pickle\n",
    "netDictList = []\n",
    "for i in range(len(network)):\n",
    "    netDictList.append(network.layers[i].__dict__)\n",
    "    \n",
    "f = open('sleepWake_state_14by14_after10Miter_netDictList.pckl', 'w')\n",
    "pickle.dump(netDictList, f)\n",
    "f.close()"
   ]
  },
  {
   "cell_type": "code",
   "execution_count": 33,
   "metadata": {
    "collapsed": true
   },
   "outputs": [],
   "source": [
    "# Load pickled state:\n",
    "import pickle\n",
    "f = open('sleepWake_state_14by14_after3Miter_netDictList.pckl', 'r')\n",
    "#f = open('sleepWake_state_14by14_after10Miter_netDictList.pckl', 'r')\n",
    "netDictList = pickle.load(f)\n",
    "f.close()\n",
    "for i in range(len(netDictList)):\n",
    "    if i is 0:\n",
    "        network = Network(netDictList[i]['n_units'])\n",
    "    else:\n",
    "        network.addLayer(netDictList[i]['n_units'])\n",
    "        \n",
    "    for key in netDictList[i]:\n",
    "        setattr(network.layers[i], key, netDictList[i][key])"
   ]
  },
  {
   "cell_type": "code",
   "execution_count": 73,
   "metadata": {
    "collapsed": true
   },
   "outputs": [],
   "source": [
    "# Set process priority low:\n",
    "import win32api,win32process,win32con\n",
    "pid = win32api.GetCurrentProcessId()\n",
    "handle = win32api.OpenProcess(win32con.PROCESS_ALL_ACCESS, True, pid)\n",
    "win32process.SetPriorityClass(handle, win32process.BELOW_NORMAL_PRIORITY_CLASS)"
   ]
  }
 ],
 "metadata": {
  "kernelspec": {
   "display_name": "Python 2",
   "language": "python",
   "name": "python2"
  },
  "language_info": {
   "codemirror_mode": {
    "name": "ipython",
    "version": 2
   },
   "file_extension": ".py",
   "mimetype": "text/x-python",
   "name": "python",
   "nbconvert_exporter": "python",
   "pygments_lexer": "ipython2",
   "version": "2.7.10"
  }
 },
 "nbformat": 4,
 "nbformat_minor": 0
}
